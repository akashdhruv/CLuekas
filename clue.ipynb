{
 "cells": [
  {
   "cell_type": "code",
   "execution_count": 1,
   "metadata": {},
   "outputs": [],
   "source": [
    "#from ipywidgets import interact, interactive, fixed, interact_manual\n",
    "#import ipywidgets as widgets\n",
    "#import IPython.display as display\n",
    "#from beautifultable import BeautifulTable\n",
    "from tabulate import tabulate\n",
    "import itertools\n",
    "import numpy\n",
    "import clueengine"
   ]
  },
  {
   "cell_type": "code",
   "execution_count": 2,
   "metadata": {},
   "outputs": [],
   "source": [
    "playerNames = ['Akash','Pooja','Korey','Matt','Lukas','Sarah','Lisa','Mariana','Case File']\n",
    "numPlayers = len(playerNames)\n",
    "playerInfo = dict(zip(playerNames,[i for i in range(numPlayers)]))"
   ]
  },
  {
   "cell_type": "code",
   "execution_count": 3,
   "metadata": {},
   "outputs": [],
   "source": [
    "game = clueengine.ClueEngine(numPlayers-1)"
   ]
  },
  {
   "cell_type": "code",
   "execution_count": 4,
   "metadata": {},
   "outputs": [],
   "source": [
    "def myPlayer(game,playerInfo,thisPlayer,cards):\n",
    "    for card in cards:\n",
    "        changedCards = game.infoOnCard(playerInfo[thisPlayer],card,True)\n",
    "        \n",
    "def thisRound(game,playerInfo,thisPlayer,cards,refPlayer,refCard):\n",
    "    \n",
    "    suggestingPlayer = playerInfo[thisPlayer]\n",
    "    card1 = cards[0]\n",
    "    card2 = cards[1]\n",
    "    card3 = cards[2]\n",
    "\n",
    "    if(refPlayer == None):\n",
    "        refutingPlayer = None\n",
    "    else:\n",
    "        refutingPlayer = playerInfo[refPlayer]\n",
    "        \n",
    "    refutingCard = refCard\n",
    "\n",
    "    changedCards = game.suggest(suggestingPlayer, card1, card2, card3, refutingPlayer, refutingCard)\n",
    "    return changedCards\n",
    "\n",
    "def playerStats(game,playerInfo,thisPlayer):\n",
    "       \n",
    "    cards = list(itertools.chain(game.cards['suspect'],game.cards['weapon'],game.cards['room']))      \n",
    "    numCards = len(cards)\n",
    "    cardInfo   = dict(zip(cards,[i for i in range(numCards)]))\n",
    "    playerCase = [str('-')] * numCards\n",
    "    \n",
    "    for thisCard in game.players[playerInfo[thisPlayer]].hasCards:\n",
    "        playerCase[cardInfo[thisCard]]=str('x')\n",
    "        \n",
    "    for thisCard in game.players[playerInfo[thisPlayer]].notHasCards:\n",
    "        playerCase[cardInfo[thisCard]]=str('o')\n",
    "    \n",
    "    possibleCards = list(itertools.chain.from_iterable(game.players[playerInfo[thisPlayer]].possibleCards))\n",
    "    \n",
    "    for thisCard in possibleCards:\n",
    "        playerCase[cardInfo[thisCard]] =str('p')\n",
    "        \n",
    "    return playerCase"
   ]
  },
  {
   "cell_type": "code",
   "execution_count": 5,
   "metadata": {},
   "outputs": [],
   "source": [
    "myPlayer(game,playerInfo,'Akash',['Plum','Wrench','Ballroom'])"
   ]
  },
  {
   "cell_type": "code",
   "execution_count": 6,
   "metadata": {},
   "outputs": [],
   "source": [
    "changedCards = thisRound(game,playerInfo,'Korey',['Orchid','Lead Pipe','Dining Room'],'Lukas',None)"
   ]
  },
  {
   "cell_type": "code",
   "execution_count": 7,
   "metadata": {},
   "outputs": [],
   "source": [
    "cards = list(itertools.chain(game.cards['suspect'],game.cards['weapon'],game.cards['room']))\n",
    "numCards = len(cards)\n",
    "cardInfo   = dict(zip(cards,[i for i in range(numCards)]))\n",
    "\n",
    "playerCase = numpy.chararray([len(cards),numPlayers],unicode=True)\n",
    "palyerCase = str(' ')\n",
    "\n",
    "for thisPlayer in playerNames:\n",
    "    playerCase[:,playerInfo[thisPlayer]] = numpy.asarray(playerStats(game,playerInfo,thisPlayer))\n",
    "\n",
    "table = []\n",
    "\n",
    "for card in cards:\n",
    "    table.append(list(itertools.chain([card],list(playerCase[cardInfo[card],:]))))\n",
    "                     \n",
    "#table_state = tabulate(playerCase[:,:],headers=playerNames)\n",
    "table_state = tabulate(table,headers=list(itertools.chain(['Cards'],playerNames)))"
   ]
  },
  {
   "cell_type": "code",
   "execution_count": 8,
   "metadata": {},
   "outputs": [
    {
     "name": "stdout",
     "output_type": "stream",
     "text": [
      "Cards          Akash    Pooja    Korey    Matt    Lukas    Sarah    Lisa    Mariana    Case File\n",
      "-------------  -------  -------  -------  ------  -------  -------  ------  ---------  -----------\n",
      "Plum           x        o        o        o       o        o        o       o          o\n",
      "Mustard        o        -        -        -       -        -        -       -          -\n",
      "Green          o        -        -        -       -        -        -       -          -\n",
      "Scarlet        o        -        -        -       -        -        -       -          -\n",
      "Orchid         o        -        -        o       p        -        -       -          -\n",
      "Peacock        o        -        -        -       -        -        -       -          -\n",
      "Knife          o        -        -        -       -        -        -       -          -\n",
      "Candlestick    o        -        -        -       -        -        -       -          -\n",
      "Revolver       o        -        -        -       -        -        -       -          -\n",
      "Lead Pipe      o        -        -        o       p        -        -       -          -\n",
      "Rope           o        -        -        -       -        -        -       -          -\n",
      "Wrench         x        o        o        o       o        o        o       o          o\n",
      "Hall           o        -        -        -       -        -        -       -          -\n",
      "Conservatory   o        -        -        -       -        -        -       -          -\n",
      "Dining Room    o        -        -        o       p        -        -       -          -\n",
      "Kitchen        o        -        -        -       -        -        -       -          -\n",
      "Study          o        -        -        -       -        -        -       -          -\n",
      "Library        o        -        -        -       -        -        -       -          -\n",
      "Ballroom       x        o        o        o       o        o        o       o          o\n",
      "Lounge         o        -        -        -       -        -        -       -          -\n",
      "Billiard Room  o        -        -        -       -        -        -       -          -\n"
     ]
    }
   ],
   "source": [
    "print(table_state)"
   ]
  }
 ],
 "metadata": {
  "kernelspec": {
   "display_name": "Python 3",
   "language": "python",
   "name": "python3"
  },
  "language_info": {
   "codemirror_mode": {
    "name": "ipython",
    "version": 3
   },
   "file_extension": ".py",
   "mimetype": "text/x-python",
   "name": "python",
   "nbconvert_exporter": "python",
   "pygments_lexer": "ipython3",
   "version": "3.6.1"
  }
 },
 "nbformat": 4,
 "nbformat_minor": 2
}
