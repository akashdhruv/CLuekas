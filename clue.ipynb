{
 "cells": [
  {
   "cell_type": "code",
   "execution_count": 1,
   "metadata": {},
   "outputs": [],
   "source": [
    "import clue\n",
    "playerNames = ['Akash','Korey','Lukas','Poop','Butt','Matt','Case File']"
   ]
  },
  {
   "cell_type": "code",
   "execution_count": 2,
   "metadata": {},
   "outputs": [],
   "source": [
    "numPlayers = len(playerNames)\n",
    "playerInfo = dict(zip(playerNames,[i for i in range(numPlayers)]))"
   ]
  },
  {
   "cell_type": "code",
   "execution_count": 3,
   "metadata": {},
   "outputs": [],
   "source": [
    "game = clue.ClueEngine(numPlayers-1)"
   ]
  },
  {
   "cell_type": "code",
   "execution_count": 4,
   "metadata": {},
   "outputs": [],
   "source": [
    "changedCards = game.infoOnCard(playerInfo['Akash'], 'Plum', True)\n",
    "changedCards = game.infoOnCard(playerInfo['Akash'], 'Wrench', True)\n",
    "changedCards = game.infoOnCard(playerInfo['Akash'], 'Ballroom', True)"
   ]
  },
  {
   "cell_type": "code",
   "execution_count": 5,
   "metadata": {},
   "outputs": [],
   "source": [
    "def thisRound(game,playerInfo,thisPlayer,cards,refPlayer,refCard):\n",
    "    \n",
    "    suggestingPlayer = playerInfo[thisPlayer]\n",
    "    card1 = cards[0]\n",
    "    card2 = cards[1]\n",
    "    card3 = cards[2]\n",
    "\n",
    "    if(refPlayer == None):\n",
    "        refutingPlayer = None\n",
    "    else:\n",
    "        refutingPlayer = playerInfo[refPlayer]\n",
    "        \n",
    "    refutingCard = refCard\n",
    "\n",
    "    changedCards = game.suggest(suggestingPlayer, card1, card2, card3, refutingPlayer, refutingCard)\n",
    "    return changedCards"
   ]
  },
  {
   "cell_type": "code",
   "execution_count": 6,
   "metadata": {},
   "outputs": [],
   "source": [
    "changedCards = thisRound(game,playerInfo,'Korey',['Orchid','Lead Pipe','Dining Room'],None,None)"
   ]
  },
  {
   "cell_type": "code",
   "execution_count": 7,
   "metadata": {},
   "outputs": [
    {
     "data": {
      "text/plain": [
       "PD(3,[],['Plum', 'Wrench', 'Ballroom'],[])"
      ]
     },
     "execution_count": 7,
     "metadata": {},
     "output_type": "execute_result"
    }
   ],
   "source": [
    "game.players[playerInfo[\"Korey\"]]"
   ]
  }
 ],
 "metadata": {
  "kernelspec": {
   "display_name": "Python 3",
   "language": "python",
   "name": "python3"
  },
  "language_info": {
   "codemirror_mode": {
    "name": "ipython",
    "version": 3
   },
   "file_extension": ".py",
   "mimetype": "text/x-python",
   "name": "python",
   "nbconvert_exporter": "python",
   "pygments_lexer": "ipython3",
   "version": "3.6.1"
  }
 },
 "nbformat": 4,
 "nbformat_minor": 2
}
